{
 "metadata": {
  "language_info": {
   "codemirror_mode": {
    "name": "ipython",
    "version": 3
   },
   "file_extension": ".py",
   "mimetype": "text/x-python",
   "name": "python",
   "nbconvert_exporter": "python",
   "pygments_lexer": "ipython3",
   "version": "3.8.3"
  },
  "orig_nbformat": 2,
  "kernelspec": {
   "name": "python3",
   "display_name": "Python 3.8.3 64-bit ('venv': venv)",
   "metadata": {
    "interpreter": {
     "hash": "c0524c1573ca81b4342fa3278243120eefe6b71bdfed9463148d5dced70345ce"
    }
   }
  },
  "metadata": {
   "interpreter": {
    "hash": "bcb68faf522e08e78162e5b969ebaead3e5a4d117375bd5aa1f6f1d4d212aedd"
   }
  }
 },
 "nbformat": 4,
 "nbformat_minor": 2,
 "cells": [
  {
   "cell_type": "code",
   "execution_count": 1,
   "metadata": {},
   "outputs": [
    {
     "output_type": "stream",
     "name": "stdout",
     "text": [
      "VIRTUAL_ENV=/home/alibek/pix2pix_TecoGAN/venv\n"
     ]
    }
   ],
   "source": [
    "!env | grep VIRTUAL_ENV"
   ]
  },
  {
   "cell_type": "code",
   "execution_count": 2,
   "metadata": {},
   "outputs": [],
   "source": [
    "### IMPORTING NECESSARY LIRARIES\n",
    "import cv2\n",
    "import tensorflow as tf\n",
    "import numpy as np\n",
    "import torch\n",
    "import pyfakewebcam\n",
    "from threading import Thread\n",
    "\n",
    "import yaml\n",
    "from TecoGAN_PyTorch.codes.utils import base_utils\n",
    "import os.path as osp\n",
    "from TecoGAN_PyTorch.codes.models import define_model\n",
    "from imutils.video import FPS"
   ]
  },
  {
   "source": [
    "### TENSORFLOW GPU CONFIGURATIONS\n",
    "# tf.debugging.set_log_device_placement(True)\n",
    "gpus = tf.config.list_physical_devices('GPU')\n",
    "print(gpus)\n",
    "if gpus:\n",
    "  # Restrict TensorFlow to only use the first GPU\n",
    "  try:\n",
    "    tf.config.experimental.set_visible_devices(gpus[0], 'GPU')\n",
    "    tf.config.experimental.set_memory_growth(gpus[0], True)\n",
    "    # tf.config.experimental.set_memory_growth(gpus[1], True)\n",
    "    logical_gpus = tf.config.experimental.list_logical_devices('GPU')\n",
    "    print(len(gpus), \"Physical GPUs,\", len(logical_gpus), \"Logical GPU\")\n",
    "  except RuntimeError as e:\n",
    "    # Visible devices must be set before GPUs have been initialized\n",
    "    print(e)"
   ],
   "cell_type": "code",
   "metadata": {},
   "execution_count": 3,
   "outputs": [
    {
     "output_type": "stream",
     "name": "stdout",
     "text": [
      "[PhysicalDevice(name='/physical_device:GPU:0', device_type='GPU'), PhysicalDevice(name='/physical_device:GPU:1', device_type='GPU')]\n2 Physical GPUs, 1 Logical GPU\n"
     ]
    }
   ]
  },
  {
   "source": [
    "### PYTORCH GPU CONFIGURATIONS\n",
    "device = torch.device('cuda:1')\n",
    "torch.cuda.set_device(device)\n",
    "print('Active CUDA Device: GPU', torch.cuda.current_device())"
   ],
   "cell_type": "code",
   "metadata": {},
   "execution_count": 4,
   "outputs": [
    {
     "output_type": "stream",
     "name": "stdout",
     "text": [
      "Active CUDA Device: GPU 1\n"
     ]
    }
   ]
  },
  {
   "cell_type": "code",
   "execution_count": 5,
   "metadata": {},
   "outputs": [],
   "source": [
    "### PIX2PIX AND TECOGAN CONFIGURATIONS\n",
    "SIZE = 512\n",
    "NORM = 255.5"
   ]
  },
  {
   "cell_type": "code",
   "execution_count": 6,
   "metadata": {
    "tags": []
   },
   "outputs": [],
   "source": [
    "### LOAD PIX2PIX MODEL\n",
    "generator = tf.saved_model.load(\"./model/pix2pixTF512\")"
   ]
  },
  {
   "cell_type": "code",
   "execution_count": 7,
   "metadata": {},
   "outputs": [],
   "source": [
    "### USE OPENCV WITH MULTITHREADING\n",
    "class WebcamVideoStream:\n",
    "    def __init__(self, src=0, device=None):\n",
    "        # initialize the video camera stream and read the first frame\n",
    "        # from the stream\n",
    "        self.stream = cv2.VideoCapture(src, device)\n",
    "        (self.grabbed, self.frame) = self.stream.read()\n",
    "        # initialize the variable used to indicate if the thread should\n",
    "        # be stopped\n",
    "        self.stopped = False\n",
    "\n",
    "    def start(self):\n",
    "        # start the thread to read frames from the video stream\n",
    "        Thread(target=self.update, args=()).start()\n",
    "        return self\n",
    "\n",
    "    def update(self):\n",
    "        # keep looping infinitely until the thread is stopped\n",
    "        while True:\n",
    "            # if the thread indicator variable is set, stop the thread\n",
    "            if self.stopped:\n",
    "                return\n",
    "\n",
    "            # otherwise, read the next frame from the stream\n",
    "            (self.grabbed, self.frame) = self.stream.read()\n",
    "\n",
    "    def read(self):\n",
    "        # return the frame most recently read\n",
    "        return self.frame\n",
    "\n",
    "    def stop(self):\n",
    "        # indicate that the thread should be stopped\n",
    "        self.stopped = True"
   ]
  },
  {
   "cell_type": "code",
   "execution_count": 8,
   "metadata": {},
   "outputs": [],
   "source": [
    "### TECOGAN CONFIGURATIONS\n",
    "with open(osp.join(\"./TecoGAN_PyTorch/experiments_BD/TecoGAN/001\", \"live.yml\"), 'r') as f:\n",
    "    opt = yaml.load(f.read(), Loader=yaml.FullLoader)\n",
    "\n",
    "# ----------------- general configs ----------------- #\n",
    "# experiment dir\n",
    "opt['exp_dir'] = \"./TecoGAN-PyTorch/experiments_BD/TecoGAN/001\"\n",
    "\n",
    "# random seed\n",
    "base_utils.setup_random_seed(opt['manual_seed'])\n",
    "\n",
    "# logger\n",
    "base_utils.setup_logger('base')\n",
    "# opt['verbose'] = opt.get('verbose', False)\n",
    "opt['verbose'] = False\n",
    "\n",
    "# device\n",
    "opt['device'] = device\n",
    "\n",
    "# setup paths\n",
    "base_utils.setup_paths(opt, mode='test')\n",
    "\n",
    "# run\n",
    "opt['is_train'] = False\n",
    "\n"
   ]
  },
  {
   "cell_type": "code",
   "execution_count": 9,
   "metadata": {},
   "outputs": [],
   "source": [
    "### FUNCTION FOR USING PIX2PIX\n",
    "def pix2pix(img):\n",
    "    # print(img.shape)\n",
    "    # print(type(img))\n",
    "    input_image = tf.cast(img, tf.float32)\n",
    "    input_image = tf.image.resize(input_image, [SIZE, SIZE],\n",
    "                                    method=tf.image.ResizeMethod.NEAREST_NEIGHBOR)\n",
    "    input_image = (input_image / NORM) - 1\n",
    "    ext_image = tf.expand_dims(input_image, axis=0)\n",
    "    prediction = generator(ext_image, training=True)\n",
    "    # pil_image = tf.keras.preprocessing.image.array_to_img(prediction[0])\n",
    "    # print(pil_image.shape)\n",
    "    # print(type(pil_image))\n",
    "    return prediction[0].numpy()\n",
    "\n",
    "# def get_from_model(iq, oq):\n",
    "#     # print(style.RED + str(oq.maxsize))\n",
    "#     while not exitFlag:\n",
    "#         if not iq.empty():\n",
    "#             image = iq.get()\n",
    "#             # print(image.shape)\n",
    "#             # print(type(image))\n",
    "#             input_image = tf.cast(image, tf.float32)\n",
    "#             input_image = tf.image.resize(input_image, [SIZE, SIZE],\n",
    "#                                           method=tf.image.ResizeMethod.NEAREST_NEIGHBOR)\n",
    "#             input_image = (input_image / NORM) - 1\n",
    "#             # input_image = load_from_video(image)\n",
    "#             ext_image = tf.expand_dims(input_image, axis=0)\n",
    "#             prediction = generator(ext_image, training=True)\n",
    "#             # generated_image = generate_images(generator, ext_image)\n",
    "#             # pil_image = tf.keras.preprocessing.image.array_to_img(\n",
    "#             #     generated_image)\n",
    "#             pil_image = tf.keras.preprocessing.image.array_to_img(\n",
    "#                 prediction[0])\n",
    "#             if not oq.full():\n",
    "#                 oq.put(np.array(pil_image))"
   ]
  },
  {
   "cell_type": "code",
   "execution_count": 10,
   "metadata": {},
   "outputs": [],
   "source": [
    "### FONCTION FOR DENOISING WITH BILETAREL\n",
    "def denoising(img):\n",
    "    img = cv2.bilateralFilter(img,15,80,80)\n",
    "    return img"
   ]
  },
  {
   "cell_type": "code",
   "execution_count": 11,
   "metadata": {},
   "outputs": [],
   "source": [
    "### FUNCTION FOR WEBCAM\n",
    "camera = pyfakewebcam.FakeWebcam('/dev/video0', SIZE*4, SIZE*4)\n",
    "def send_to_webcam(img):\n",
    "    camera.schedule_frame(img)"
   ]
  },
  {
   "cell_type": "code",
   "execution_count": 12,
   "metadata": {},
   "outputs": [],
   "source": [
    "### FUNCTION FOR SHOWING IMAGES\n",
    "def showImages(name, img):\n",
    "    if not tf.is_tensor(img):\n",
    "        cv2.imshow(name, img)\n",
    "    else:\n",
    "        cv2.imshow(name, img.numpy())"
   ]
  },
  {
   "cell_type": "code",
   "execution_count": 13,
   "metadata": {},
   "outputs": [],
   "source": [
    "### FUNCTION FOR USING TECOGAN\n",
    "def live(opt):\n",
    "    # cv2.namedWindow(\"pix2pix image\", cv2.WINDOW_NORMAL)\n",
    "    # cv2.namedWindow(\"tecogan image\", cv2.WINDOW_NORMAL)\n",
    "    cv2.namedWindow(\"denoise image\", cv2.WINDOW_NORMAL)\n",
    "    # cap = cv2.VideoCapture(0)\n",
    "    cap = WebcamVideoStream(src=2).start()\n",
    "\n",
    "    # logging\n",
    "    logger = base_utils.get_logger('base')\n",
    "    if opt['verbose']:\n",
    "        logger.info('{} Configurations {}'.format('=' * 20, '=' * 20))\n",
    "        base_utils.print_options(opt, logger)\n",
    "\n",
    "    # infer and evaluate performance for each model\n",
    "    for load_path in opt['model']['generator']['load_path_lst']:\n",
    "        # setup model index\n",
    "        model_idx = osp.splitext(osp.split(load_path)[-1])[0]\n",
    "\n",
    "        # log\n",
    "        logger.info('=' * 40)\n",
    "        logger.info('Testing model: {}'.format(model_idx))\n",
    "        logger.info('=' * 40)\n",
    "\n",
    "        # create model\n",
    "        opt['model']['generator']['load_path'] = load_path\n",
    "        model = define_model(opt)\n",
    "        fps = FPS().start()\n",
    "        while True:\n",
    "            image = cap.read()\n",
    "            if image.any():\n",
    "                # print(image.shape)\n",
    "                # image = cv2.resize(image, (128, 128))\n",
    "                pix2pix_image = pix2pix(image)\n",
    "                # showImages(\"pix2pix image\", pix2pix_image)\n",
    "                # cv2.imshow(\"pix2pix image\", pix2pix_image)\n",
    "                norm_image = cv2.normalize(\n",
    "                    pix2pix_image, None, alpha=0, beta=1, norm_type=cv2.NORM_MINMAX, dtype=cv2.CV_32F)\n",
    "                # torch.cuda.set_device(device)\n",
    "                # print('Active CUDA Device: GPU', torch.cuda.current_device())\n",
    "                tmp_torch = torch.from_numpy(norm_image[None, :, :, :]).cuda(1)\n",
    "                hr_image = model.infer_live(tmp_torch)\n",
    "                tecogan_image = hr_image[0]\n",
    "                # showImages(\"tecogan image\", tecogan_image)\n",
    "                # cv2.imshow(\"tecogan image\", tecogan_image)\n",
    "                # norm_image = cv2.normalize(\n",
    "                #     tecogan_image, None, alpha=0, beta=1, norm_type=cv2.NORM_MINMAX, dtype=cv2.CV_32F)\n",
    "                # tecogan_image = tf.image.resize(norm_image, (1024, 1024))\n",
    "                tecogan_image = cv2.resize(tecogan_image, (1024, 1024))\n",
    "                denoise_image = denoising(tecogan_image)\n",
    "                showImages(\"denoise image\", denoise_image)\n",
    "                # cv2.imshow(\"denoise image\", denoise_image)\n",
    "                # send_to_webcam(denoise_image)\n",
    "                if cv2.waitKey(1) & 0xFF == ord('q'):\n",
    "                    cv2.destroyAllWindows()\n",
    "                    cap.stop()\n",
    "                    break\n",
    "                fps.update()\n",
    "    fps.stop()\n",
    "    print(\"[INFO] elasped time: {:.2f}\".format(fps.elapsed()))\n",
    "    print(\"[INFO] approx. FPS: {:.2f}\".format(fps.fps()))\n",
    "    # logging\n",
    "    logger.info('Finish testing')\n",
    "    logger.info('=' * 40)"
   ]
  },
  {
   "cell_type": "code",
   "execution_count": 14,
   "metadata": {
    "tags": []
   },
   "outputs": [
    {
     "output_type": "stream",
     "name": "stderr",
     "text": [
      "2021-04-27 17:52:50,384 [INFO]: ========================================\n",
      "2021-04-27 17:52:50,385 [INFO]: Testing model: TecoGAN_BD_iter500000\n",
      "2021-04-27 17:52:50,385 [INFO]: ========================================\n",
      "2021-04-27 17:53:10,328 [INFO]: Finish testing\n",
      "2021-04-27 17:53:10,329 [INFO]: ========================================\n",
      "[INFO] elasped time: 16.05\n",
      "[INFO] approx. FPS: 3.99\n"
     ]
    }
   ],
   "source": [
    "### testing area\n",
    "live(opt)"
   ]
  },
  {
   "cell_type": "code",
   "execution_count": null,
   "metadata": {},
   "outputs": [],
   "source": []
  }
 ]
}