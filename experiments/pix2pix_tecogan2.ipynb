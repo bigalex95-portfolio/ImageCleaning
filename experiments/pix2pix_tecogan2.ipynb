{
 "metadata": {
  "language_info": {
   "codemirror_mode": {
    "name": "ipython",
    "version": 3
   },
   "file_extension": ".py",
   "mimetype": "text/x-python",
   "name": "python",
   "nbconvert_exporter": "python",
   "pygments_lexer": "ipython3",
   "version": "3.6.8"
  },
  "orig_nbformat": 2,
  "kernelspec": {
   "name": "python368jvsc74a57bd036bc75422bf60fb63f1343964bce070abb4365cfef96750d4ace1ef4d834c520",
   "display_name": "Python 3.6.8 64-bit ('venv': venv)",
   "language": "python"
  },
  "metadata": {
   "interpreter": {
    "hash": "bcb68faf522e08e78162e5b969ebaead3e5a4d117375bd5aa1f6f1d4d212aedd"
   }
  }
 },
 "nbformat": 4,
 "nbformat_minor": 2,
 "cells": [
  {
   "cell_type": "code",
   "execution_count": 1,
   "metadata": {},
   "outputs": [],
   "source": [
    "#!env | grep VIRTUAL_ENV"
   ]
  },
  {
   "cell_type": "code",
   "execution_count": 2,
   "metadata": {},
   "outputs": [],
   "source": [
    "### PIX2PIX AND TECOGAN CONFIGURATIONS\n",
    "pix2pix_size = 512\n",
    "pix2pix_norm = (pix2pix_size/2) - 0.5\n",
    "tecogan_size = 256\n",
    "tecogan = False\n",
    "display = True\n",
    "webcam = True"
   ]
  },
  {
   "cell_type": "code",
   "execution_count": 3,
   "metadata": {},
   "outputs": [],
   "source": [
    "### IMPORT NECCESARY LIBRARIES\n",
    "import cv2\n",
    "import tensorflow as tf\n",
    "import numpy as np\n",
    "import torch\n",
    "from threading import Thread\n",
    "import pyvirtualcam\n",
    "import yaml\n",
    "from TecoGAN_PyTorch.codes.utils import base_utils\n",
    "import os.path as osp\n",
    "from TecoGAN_PyTorch.codes.models import define_model\n",
    "from imutils.video import FPS"
   ]
  },
  {
   "source": [
    "### TENSORFLOW GPU CONFIGURATIONS\n",
    "# tf.debugging.set_log_device_placement(True)\n",
    "gpus = tf.config.list_physical_devices('GPU')\n",
    "print(gpus)\n",
    "if gpus:\n",
    "  # Restrict TensorFlow to only use the first GPU\n",
    "  try:\n",
    "    tf.config.experimental.set_visible_devices(gpus[1], 'GPU')\n",
    "    tf.config.experimental.set_memory_growth(gpus[1], True)\n",
    "    # tf.config.experimental.set_memory_growth(gpus[1], True)\n",
    "    logical_gpus = tf.config.experimental.list_logical_devices('GPU')\n",
    "    print(len(gpus), \"Physical GPUs,\", len(logical_gpus), \"Logical GPU\")\n",
    "  except RuntimeError as e:\n",
    "    # Visible devices must be set before GPUs have been initialized\n",
    "    print(e)"
   ],
   "cell_type": "code",
   "metadata": {},
   "execution_count": 4,
   "outputs": [
    {
     "output_type": "stream",
     "name": "stdout",
     "text": [
      "[PhysicalDevice(name='/physical_device:GPU:0', device_type='GPU'), PhysicalDevice(name='/physical_device:GPU:1', device_type='GPU')]\n2 Physical GPUs, 1 Logical GPU\n"
     ]
    }
   ]
  },
  {
   "cell_type": "code",
   "execution_count": 5,
   "metadata": {
    "tags": []
   },
   "outputs": [],
   "source": [
    "### LOAD PIX2PIX MODEL\n",
    "generator = tf.saved_model.load(f\"./model/pix2pixTF{pix2pix_size}\")"
   ]
  },
  {
   "cell_type": "code",
   "execution_count": 6,
   "metadata": {},
   "outputs": [],
   "source": [
    "### USE OPENCV WITH MULTITHREADING\n",
    "class WebcamVideoStream:\n",
    "    def __init__(self, src=0, device=None):\n",
    "        # initialize the video camera stream and read the first frame\n",
    "        # from the stream\n",
    "        self.stream = cv2.VideoCapture(src, device)\n",
    "        (self.grabbed, self.frame) = self.stream.read()\n",
    "        # initialize the variable used to indicate if the thread should\n",
    "        # be stopped\n",
    "        self.stopped = False\n",
    "\n",
    "    def start(self):\n",
    "        # start the thread to read frames from the video stream\n",
    "        Thread(target=self.update, args=()).start()\n",
    "        return self\n",
    "\n",
    "    def update(self):\n",
    "        # keep looping infinitely until the thread is stopped\n",
    "        while True:\n",
    "            # if the thread indicator variable is set, stop the thread\n",
    "            if self.stopped:\n",
    "                return\n",
    "\n",
    "            # otherwise, read the next frame from the stream\n",
    "            (self.grabbed, self.frame) = self.stream.read()\n",
    "\n",
    "    def read(self):\n",
    "        # return the frame most recently read\n",
    "        return self.frame\n",
    "\n",
    "    def stop(self):\n",
    "        # indicate that the thread should be stopped\n",
    "        self.stopped = True"
   ]
  },
  {
   "cell_type": "code",
   "execution_count": 7,
   "metadata": {},
   "outputs": [],
   "source": [
    "### TECOGAN CONFIGURATIONS\n",
    "### PYTORCH GPU CONFIGURATIONS\n",
    "if tecogan:\n",
    "    device = torch.device('cuda:1')\n",
    "    torch.cuda.set_device(device)\n",
    "    print('Active CUDA Device: GPU', torch.cuda.current_device())\n",
    "with open(osp.join(\"./TecoGAN_PyTorch/experiments_BD/TecoGAN/001\", \"live.yml\"), 'r') as f:\n",
    "    opt = yaml.load(f.read(), Loader=yaml.FullLoader)\n",
    "\n",
    "# ----------------- general configs ----------------- #\n",
    "# experiment dir\n",
    "opt['exp_dir'] = \"./TecoGAN-PyTorch/experiments_BD/TecoGAN/001\"\n",
    "\n",
    "# random seed\n",
    "base_utils.setup_random_seed(opt['manual_seed'])\n",
    "\n",
    "# logger\n",
    "base_utils.setup_logger('base')\n",
    "# opt['verbose'] = opt.get('verbose', False)\n",
    "opt['verbose'] = False\n",
    "\n",
    "# device\n",
    "opt['device'] = \"cpu\" # device\n",
    "\n",
    "# setup paths\n",
    "base_utils.setup_paths(opt, mode='test')\n",
    "\n",
    "# run\n",
    "opt['is_train'] = False"
   ]
  },
  {
   "cell_type": "code",
   "execution_count": 8,
   "metadata": {},
   "outputs": [],
   "source": [
    "### FUNCTION FOR USING PIX2PIX\n",
    "def pix2pix(img):\n",
    "    input_image = tf.cast(img, tf.float32)\n",
    "    input_image = tf.image.resize(input_image, [pix2pix_size, pix2pix_size],\n",
    "                                    method=tf.image.ResizeMethod.NEAREST_NEIGHBOR)\n",
    "    input_image = (input_image / pix2pix_norm) - 1\n",
    "    ext_image = tf.expand_dims(input_image, axis=0)\n",
    "    prediction = generator(ext_image, training=True)\n",
    "    # pil_image = tf.keras.preprocessing.image.array_to_img(prediction[0])\n",
    "    return prediction[0].numpy()"
   ]
  },
  {
   "cell_type": "code",
   "execution_count": 9,
   "metadata": {},
   "outputs": [],
   "source": [
    "### FONCTION FOR DENOISING WITH BILETAREL\n",
    "def denoising(img):\n",
    "    img = cv2.bilateralFilter(img,15,80,80)\n",
    "    return img"
   ]
  },
  {
   "cell_type": "code",
   "execution_count": 10,
   "metadata": {},
   "outputs": [],
   "source": [
    "### FUNCTION FOR WEBCAM\n",
    "if webcam:\n",
    "    camera = pyvirtualcam.Camera(width=pix2pix_size, height=pix2pix_size, fps=30, device=\"Unity Video Capture\")\n",
    "    def send_to_webcam(img):\n",
    "        img = img[...,::-1]\n",
    "        camera.send(img)\n",
    "        camera.sleep_until_next_frame()"
   ]
  },
  {
   "cell_type": "code",
   "execution_count": 11,
   "metadata": {},
   "outputs": [],
   "source": [
    "### FUNCTION FOR USING TECOGAN\n",
    "def live(opt):\n",
    "    global webcam\n",
    "    cv2.namedWindow(\"denoise image\", cv2.WINDOW_NORMAL)\n",
    "    cv2.resizeWindow(\"denoise image\", 1024, 1024)\n",
    "    # cap = cv2.VideoCapture(0)\n",
    "    cap = WebcamVideoStream(src=1).start()\n",
    "    if tecogan:\n",
    "        # logging\n",
    "        logger = base_utils.get_logger('base')\n",
    "        if opt['verbose']:\n",
    "            logger.info('{} Configurations {}'.format('=' * 20, '=' * 20))\n",
    "            base_utils.print_options(opt, logger)\n",
    "\n",
    "        # infer and evaluate performance for each model\n",
    "        for load_path in opt['model']['generator']['load_path_lst']:\n",
    "            # setup model index\n",
    "            model_idx = osp.splitext(osp.split(load_path)[-1])[0]\n",
    "\n",
    "            # log\n",
    "            logger.info('=' * 40)\n",
    "            logger.info('Testing model: {}'.format(model_idx))\n",
    "            logger.info('=' * 40)\n",
    "\n",
    "            # create model\n",
    "            opt['model']['generator']['load_path'] = load_path\n",
    "            model = define_model(opt)\n",
    "            fps = FPS().start()\n",
    "            while True:\n",
    "                image = cap.read()\n",
    "                if image.any():\n",
    "                    # print(image.shape)\n",
    "                    pix2pix_image = pix2pix(image)\n",
    "                    \n",
    "                    if pix2pix_size != tecogan_size:\n",
    "                        tmp_image = cv2.resize(pix2pix_image, (tecogan_size, tecogan_size))\n",
    "\n",
    "                    norm_image = cv2.normalize(\n",
    "                        pix2pix_image, None, alpha=0, beta=1, norm_type=cv2.NORM_MINMAX, dtype=cv2.CV_32F)\n",
    "\n",
    "                    tmp_torch = torch.from_numpy(norm_image[None, :, :, :]).cuda(1)\n",
    "                    hr_image = model.infer_live(tmp_torch)\n",
    "                    tecogan_image = hr_image[0]\n",
    "                    print(tecogan_image.shape)\n",
    "\n",
    "                    denoise_image = denoising(tecogan_image)\n",
    "                    if display:\n",
    "                        cv2.imshow(\"denoise image\", denoise_image)\n",
    "                    if webcam:\n",
    "                        denoise_image = denoise_image * 255\n",
    "                        send_to_webcam(denoise_image.astype(np.uint8))\n",
    "                    if cv2.waitKey(1) & 0xFF == ord('q'):\n",
    "                        cv2.destroyAllWindows()\n",
    "                        cap.stop()\n",
    "                        break\n",
    "                    elif cv2.waitKey(1) & 0xFF == ord('w'):\n",
    "                        webcam = not webcam\n",
    "                    fps.update()\n",
    "        fps.stop()\n",
    "        print(\"[INFO] elasped time: {:.2f}\".format(fps.elapsed()))\n",
    "        print(\"[INFO] approx. FPS: {:.2f}\".format(fps.fps()))\n",
    "        # logging\n",
    "        logger.info('Finish testing')\n",
    "        logger.info('=' * 40)\n",
    "    else:\n",
    "        fps = FPS().start()\n",
    "        while True:\n",
    "            image = cap.read()\n",
    "            if image.any():\n",
    "                # print(image.shape)\n",
    "\n",
    "                pix2pix_image = pix2pix(image)\n",
    "\n",
    "                norm_image = cv2.normalize(\n",
    "                    pix2pix_image, None, alpha=0, beta=1, norm_type=cv2.NORM_MINMAX, dtype=cv2.CV_32F)\n",
    "                # denoise_image = denoising(norm_image)\n",
    "\n",
    "                if display:\n",
    "                    cv2.imshow(\"denoise image\", norm_image)\n",
    "                if webcam:\n",
    "                    norm_image = norm_image * 255\n",
    "                    send_to_webcam(norm_image.astype(np.uint8))\n",
    "                if cv2.waitKey(1) & 0xFF == ord('q'):\n",
    "                    cv2.destroyAllWindows()\n",
    "                    cap.stop()\n",
    "                    break\n",
    "                elif cv2.waitKey(1) & 0xFF == ord('w'):\n",
    "                    webcam = not webcam\n",
    "                fps.update()\n",
    "        fps.stop()\n",
    "        print(\"[INFO] elasped time: {:.2f}\".format(fps.elapsed()))\n",
    "        print(\"[INFO] approx. FPS: {:.2f}\".format(fps.fps()))"
   ]
  },
  {
   "cell_type": "code",
   "execution_count": 12,
   "metadata": {
    "tags": []
   },
   "outputs": [
    {
     "output_type": "error",
     "ename": "AttributeError",
     "evalue": "'NoneType' object has no attribute 'any'",
     "traceback": [
      "\u001b[1;31m---------------------------------------------------------------------------\u001b[0m",
      "\u001b[1;31mAttributeError\u001b[0m                            Traceback (most recent call last)",
      "\u001b[1;32m<ipython-input-12-1ee66b4d12b6>\u001b[0m in \u001b[0;36m<module>\u001b[1;34m\u001b[0m\n\u001b[0;32m      1\u001b[0m \u001b[1;31m### testing area\u001b[0m\u001b[1;33m\u001b[0m\u001b[1;33m\u001b[0m\u001b[1;33m\u001b[0m\u001b[0m\n\u001b[1;32m----> 2\u001b[1;33m \u001b[0mlive\u001b[0m\u001b[1;33m(\u001b[0m\u001b[0mopt\u001b[0m\u001b[1;33m)\u001b[0m\u001b[1;33m\u001b[0m\u001b[1;33m\u001b[0m\u001b[0m\n\u001b[0m",
      "\u001b[1;32m<ipython-input-11-be9bf76ddff9>\u001b[0m in \u001b[0;36mlive\u001b[1;34m(opt)\u001b[0m\n\u001b[0;32m     67\u001b[0m         \u001b[1;32mwhile\u001b[0m \u001b[1;32mTrue\u001b[0m\u001b[1;33m:\u001b[0m\u001b[1;33m\u001b[0m\u001b[1;33m\u001b[0m\u001b[0m\n\u001b[0;32m     68\u001b[0m             \u001b[0mimage\u001b[0m \u001b[1;33m=\u001b[0m \u001b[0mcap\u001b[0m\u001b[1;33m.\u001b[0m\u001b[0mread\u001b[0m\u001b[1;33m(\u001b[0m\u001b[1;33m)\u001b[0m\u001b[1;33m\u001b[0m\u001b[1;33m\u001b[0m\u001b[0m\n\u001b[1;32m---> 69\u001b[1;33m             \u001b[1;32mif\u001b[0m \u001b[0mimage\u001b[0m\u001b[1;33m.\u001b[0m\u001b[0many\u001b[0m\u001b[1;33m(\u001b[0m\u001b[1;33m)\u001b[0m\u001b[1;33m:\u001b[0m\u001b[1;33m\u001b[0m\u001b[1;33m\u001b[0m\u001b[0m\n\u001b[0m\u001b[0;32m     70\u001b[0m                 \u001b[1;31m# print(image.shape)\u001b[0m\u001b[1;33m\u001b[0m\u001b[1;33m\u001b[0m\u001b[1;33m\u001b[0m\u001b[0m\n\u001b[0;32m     71\u001b[0m \u001b[1;33m\u001b[0m\u001b[0m\n",
      "\u001b[1;31mAttributeError\u001b[0m: 'NoneType' object has no attribute 'any'"
     ]
    }
   ],
   "source": [
    "### testing area\n",
    "live(opt)"
   ]
  },
  {
   "source": [
    "cam = cv2.VideoCapture(0)\n",
    "while True:\n",
    "    _, frame = cam.read()\n",
    "    resize = cv2.resize(frame, (512,512))\n",
    "    send_to_webcam(resize)"
   ],
   "cell_type": "markdown",
   "metadata": {}
  },
  {
   "cell_type": "code",
   "execution_count": 2,
   "metadata": {},
   "outputs": [
    {
     "output_type": "stream",
     "name": "stdout",
     "text": [
      "CV_CAP_PROP_FRAME_WIDTH: '0.0'\nCV_CAP_PROP_FRAME_HEIGHT : '0.0'\nCAP_PROP_FPS : '0.0'\nCAP_PROP_POS_MSEC : '0.0'\nCAP_PROP_FRAME_COUNT : '0.0'\nCAP_PROP_BRIGHTNESS : '0.0'\nCAP_PROP_CONTRAST : '0.0'\nCAP_PROP_SATURATION : '0.0'\nCAP_PROP_HUE : '0.0'\nCAP_PROP_GAIN : '0.0'\nCAP_PROP_CONVERT_RGB : '0.0'\n"
     ]
    }
   ],
   "source": [
    "# importing cv2\n",
    "import cv2\n",
    "\n",
    "#For Video File\n",
    "#capture=cv2.VideoCapture(\"sample.webm\")\n",
    "\n",
    "#For webcam\n",
    "capture=cv2.VideoCapture(1, cv2.CAP_DSHOW)\n",
    "\n",
    "# showing values of the properties\n",
    "print(\"CV_CAP_PROP_FRAME_WIDTH: '{}'\".format(capture.get(cv2.CAP_PROP_FRAME_WIDTH)))\n",
    "print(\"CV_CAP_PROP_FRAME_HEIGHT : '{}'\".format(capture.get(cv2.CAP_PROP_FRAME_HEIGHT)))\n",
    "print(\"CAP_PROP_FPS : '{}'\".format(capture.get(cv2.CAP_PROP_FPS)))\n",
    "print(\"CAP_PROP_POS_MSEC : '{}'\".format(capture.get(cv2.CAP_PROP_POS_MSEC)))\n",
    "print(\"CAP_PROP_FRAME_COUNT : '{}'\".format(capture.get(cv2.CAP_PROP_FRAME_COUNT)))\n",
    "print(\"CAP_PROP_BRIGHTNESS : '{}'\".format(capture.get(cv2.CAP_PROP_BRIGHTNESS)))\n",
    "print(\"CAP_PROP_CONTRAST : '{}'\".format(capture.get(cv2.CAP_PROP_CONTRAST)))\n",
    "print(\"CAP_PROP_SATURATION : '{}'\".format(capture.get(cv2.CAP_PROP_SATURATION)))\n",
    "print(\"CAP_PROP_HUE : '{}'\".format(capture.get(cv2.CAP_PROP_HUE)))\n",
    "print(\"CAP_PROP_GAIN : '{}'\".format(capture.get(cv2.CAP_PROP_GAIN)))\n",
    "print(\"CAP_PROP_CONVERT_RGB : '{}'\".format(capture.get(cv2.CAP_PROP_CONVERT_RGB)))\n",
    "\n",
    "# release window\n",
    "capture.release()\n",
    "cv2.destroyAllWindows()"
   ]
  },
  {
   "cell_type": "code",
   "execution_count": null,
   "metadata": {},
   "outputs": [],
   "source": []
  }
 ]
}